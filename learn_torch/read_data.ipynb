{
 "cells": [
  {
   "cell_type": "code",
   "execution_count": 8,
   "id": "59e29948",
   "metadata": {},
   "outputs": [],
   "source": [
    "# 使用 DeepL 环境\n",
    "from torch.utils.data import Dataset\n",
    "from PIL import Image\n",
    "import os\n",
    "\n",
    "class MyDataset(Dataset):\n",
    "\n",
    "  def __init__(self,root_dir,label_dir):\n",
    "    self.root_dir = root_dir\n",
    "    self.label_dir = label_dir\n",
    "    self.path = os.path.join(self.root_dir,self.label_dir)\n",
    "    self.img_path = os.listdir(self.path)\n",
    "\n",
    "  def __getitem__(self, index):\n",
    "    img_name = self.img_path[index]\n",
    "    img_item_path = os.path.join(self.root_dir,self.label_dir,img_name)\n",
    "    img = Image.open(img_item_path)\n",
    "    label = self.label_dir\n",
    "    return img,label\n",
    "  \n",
    "  def __len__(self):\n",
    "    return len(self.img_path)\n",
    "  "
   ]
  },
  {
   "cell_type": "code",
   "execution_count": 9,
   "id": "f82f9376",
   "metadata": {},
   "outputs": [],
   "source": [
    "root_dir = r\"..\\数据集\\hymenoptera_data\\train\"\n",
    "ant_dir = \"ants\"\n",
    "bee_dir = \"bees\"\n",
    "ant_dataset = MyDataset(root_dir,ant_dir)\n",
    "bee_dataset = MyDataset(root_dir,bee_dir)"
   ]
  },
  {
   "cell_type": "code",
   "execution_count": 10,
   "id": "61aee33c",
   "metadata": {},
   "outputs": [
    {
     "name": "stdout",
     "output_type": "stream",
     "text": [
      "124\n",
      "121\n"
     ]
    }
   ],
   "source": [
    "print(len(ant_dataset))\n",
    "print(len(bee_dataset))"
   ]
  },
  {
   "cell_type": "code",
   "execution_count": 11,
   "id": "c18d5393",
   "metadata": {},
   "outputs": [
    {
     "data": {
      "text/plain": [
       "245"
      ]
     },
     "execution_count": 11,
     "metadata": {},
     "output_type": "execute_result"
    }
   ],
   "source": [
    "train_dataset = ant_dataset + bee_dataset\n",
    "img,label = train_dataset[0]\n",
    "img.show()\n",
    "len(train_dataset)"
   ]
  },
  {
   "cell_type": "code",
   "execution_count": null,
   "id": "8658a7b7",
   "metadata": {},
   "outputs": [],
   "source": [
    "# ants 的图片\n",
    "img,label = train_dataset[123]\n",
    "img.show()"
   ]
  },
  {
   "cell_type": "code",
   "execution_count": null,
   "id": "01840fc0",
   "metadata": {},
   "outputs": [],
   "source": [
    "# bees 的图片\n",
    "img,label = train_dataset[124]\n",
    "img.show()"
   ]
  }
 ],
 "metadata": {
  "kernelspec": {
   "display_name": "DeepL",
   "language": "python",
   "name": "python3"
  },
  "language_info": {
   "codemirror_mode": {
    "name": "ipython",
    "version": 3
   },
   "file_extension": ".py",
   "mimetype": "text/x-python",
   "name": "python",
   "nbconvert_exporter": "python",
   "pygments_lexer": "ipython3",
   "version": "3.10.14"
  }
 },
 "nbformat": 4,
 "nbformat_minor": 5
}
