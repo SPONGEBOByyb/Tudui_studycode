{
 "cells": [
  {
   "cell_type": "code",
   "execution_count": 2,
   "id": "04e7b8e1",
   "metadata": {},
   "outputs": [],
   "source": [
    "import torchvision"
   ]
  },
  {
   "cell_type": "code",
   "execution_count": 2,
   "id": "012b5d6f",
   "metadata": {},
   "outputs": [
    {
     "name": "stdout",
     "output_type": "stream",
     "text": [
      "Files already downloaded and verified\n",
      "Files already downloaded and verified\n"
     ]
    }
   ],
   "source": [
    "dataset_transform = torchvision.transforms.Compose([\n",
    "  torchvision.transforms.ToTensor()\n",
    "])\n",
    "\n",
    "train_set = torchvision.datasets.CIFAR10(root = './dataset/cifar10',train = True,transform=dataset_transform, download=True)\n",
    "test_set = torchvision.datasets.CIFAR10(root = './dataset/cifar10',train = False,transform=dataset_transform, download=True)\n"
   ]
  },
  {
   "cell_type": "code",
   "execution_count": null,
   "id": "7a9561ed",
   "metadata": {},
   "outputs": [
    {
     "name": "stdout",
     "output_type": "stream",
     "text": [
      "(<PIL.Image.Image image mode=RGB size=32x32 at 0x23D369C71C0>, 3)\n",
      "['airplane', 'automobile', 'bird', 'cat', 'deer', 'dog', 'frog', 'horse', 'ship', 'truck']\n"
     ]
    }
   ],
   "source": [
    "# print(test_set[0])\n",
    "# print(test_set.classes)"
   ]
  },
  {
   "cell_type": "code",
   "execution_count": null,
   "id": "13b96058",
   "metadata": {},
   "outputs": [
    {
     "name": "stdout",
     "output_type": "stream",
     "text": [
      "<PIL.Image.Image image mode=RGB size=32x32 at 0x23D369C7B20>\n",
      "3\n",
      "cat\n"
     ]
    }
   ],
   "source": [
    "# img,target = test_set[0]\n",
    "# print(img)\n",
    "# print(target)\n",
    "# print(test_set.classes[target])\n",
    "# img.show()"
   ]
  },
  {
   "cell_type": "code",
   "execution_count": 1,
   "id": "f657353b",
   "metadata": {},
   "outputs": [
    {
     "name": "stderr",
     "output_type": "stream",
     "text": [
      "d:\\Anaconda\\anaconda3\\envs\\DeepL\\lib\\site-packages\\tqdm\\auto.py:21: TqdmWarning: IProgress not found. Please update jupyter and ipywidgets. See https://ipywidgets.readthedocs.io/en/stable/user_install.html\n",
      "  from .autonotebook import tqdm as notebook_tqdm\n"
     ]
    },
    {
     "ename": "NameError",
     "evalue": "name 'test_set' is not defined",
     "output_type": "error",
     "traceback": [
      "\u001b[1;31m---------------------------------------------------------------------------\u001b[0m",
      "\u001b[1;31mNameError\u001b[0m                                 Traceback (most recent call last)",
      "Cell \u001b[1;32mIn[1], line 7\u001b[0m\n\u001b[0;32m      5\u001b[0m writer \u001b[38;5;241m=\u001b[39m SummaryWriter(\u001b[38;5;124m\"\u001b[39m\u001b[38;5;124mp10\u001b[39m\u001b[38;5;124m\"\u001b[39m)\n\u001b[0;32m      6\u001b[0m \u001b[38;5;28;01mfor\u001b[39;00m i \u001b[38;5;129;01min\u001b[39;00m \u001b[38;5;28mrange\u001b[39m(\u001b[38;5;241m10\u001b[39m):\n\u001b[1;32m----> 7\u001b[0m   img,target \u001b[38;5;241m=\u001b[39m \u001b[43mtest_set\u001b[49m[i]\n\u001b[0;32m      8\u001b[0m   writer\u001b[38;5;241m.\u001b[39madd_image(\u001b[38;5;124m\"\u001b[39m\u001b[38;5;124mtest_set\u001b[39m\u001b[38;5;124m\"\u001b[39m,img,i)\n\u001b[0;32m     10\u001b[0m writer\u001b[38;5;241m.\u001b[39mclose()\n",
      "\u001b[1;31mNameError\u001b[0m: name 'test_set' is not defined"
     ]
    }
   ],
   "source": [
    "# Correct import statement\n",
    "from torch.utils.tensorboard import SummaryWriter\n",
    "\n",
    "# Fixed variable name\n",
    "writer = SummaryWriter(\"p10\")\n",
    "for i in range(10):\n",
    "  img,target = test_set[i]\n",
    "  writer.add_image(\"test_set\",img,i)\n",
    "\n",
    "writer.close()"
   ]
  }
 ],
 "metadata": {
  "kernelspec": {
   "display_name": "DeepL",
   "language": "python",
   "name": "python3"
  },
  "language_info": {
   "codemirror_mode": {
    "name": "ipython",
    "version": 3
   },
   "file_extension": ".py",
   "mimetype": "text/x-python",
   "name": "python",
   "nbconvert_exporter": "python",
   "pygments_lexer": "ipython3",
   "version": "3.10.14"
  }
 },
 "nbformat": 4,
 "nbformat_minor": 5
}
