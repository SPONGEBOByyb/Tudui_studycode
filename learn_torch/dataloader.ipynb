{
 "cells": [
  {
   "cell_type": "code",
   "execution_count": 19,
   "id": "251edc81",
   "metadata": {},
   "outputs": [],
   "source": [
    "import torchvision\n",
    "from torch.utils.tensorboard import SummaryWriter"
   ]
  },
  {
   "cell_type": "code",
   "execution_count": null,
   "id": "902fa800",
   "metadata": {},
   "outputs": [],
   "source": [
    "# 准备的测试数据集\n",
    "from torch.utils.data import DataLoader\n",
    "\n",
    "test_data = torchvision.datasets.CIFAR10(\"./dataset/cifar10\",train=False,transform=torchvision.transforms.ToTensor())\n",
    "\n",
    "test_loader = DataLoader(test_data,batch_size=64,shuffle=True,num_workers=0,drop_last=True)\n"
   ]
  },
  {
   "cell_type": "code",
   "execution_count": 21,
   "id": "763efdb9",
   "metadata": {},
   "outputs": [
    {
     "name": "stdout",
     "output_type": "stream",
     "text": [
      "torch.Size([3, 32, 32])\n",
      "3\n"
     ]
    }
   ],
   "source": [
    "# 测试数据集中第一张图片及target\n",
    "img, target = test_data[0]\n",
    "print(img.shape)\n",
    "print(target)"
   ]
  },
  {
   "cell_type": "code",
   "execution_count": null,
   "id": "981eb98a",
   "metadata": {},
   "outputs": [],
   "source": [
    "writer = SummaryWriter(\"dataloader\")\n",
    "for epoch in range(2):\n",
    "  step = 0\n",
    "  for data in test_loader:\n",
    "    imgs,targets = data\n",
    "    # print(imgs.shape)\n",
    "    # print(targets)\n",
    "    writer.add_images(\"Epoch: {}\".format(epoch),imgs,step)\n",
    "    step = step + 1\n",
    "\n",
    "writer.close()"
   ]
  }
 ],
 "metadata": {
  "kernelspec": {
   "display_name": "DeepL",
   "language": "python",
   "name": "python3"
  },
  "language_info": {
   "codemirror_mode": {
    "name": "ipython",
    "version": 3
   },
   "file_extension": ".py",
   "mimetype": "text/x-python",
   "name": "python",
   "nbconvert_exporter": "python",
   "pygments_lexer": "ipython3",
   "version": "3.10.14"
  }
 },
 "nbformat": 4,
 "nbformat_minor": 5
}
